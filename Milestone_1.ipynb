{
 "cells": [
  {
   "cell_type": "markdown",
   "metadata": {},
   "source": [
    "## Problem Statement"
   ]
  },
  {
   "cell_type": "markdown",
   "metadata": {},
   "source": [
    "The deliverable for Milestone 1 is a Jupyter Notebook (preferably hosted on GitHub) showing an example image(s) of a satellite dataset read in using **Rasterio**, and demonstration of a function that carries out a manipulation of that image using **Keras and TensorFlow 2.0**. That manipulation could be anything that alters the image, such as its size, geometry (shape), pixel intensities, or spatial projection. This will mostly test your understanding of Keras syntax, which is an essential component of the remaining milestones."
   ]
  },
  {
   "cell_type": "markdown",
   "metadata": {},
   "source": [
    "### common python imports"
   ]
  },
  {
   "cell_type": "code",
   "execution_count": null,
   "metadata": {
    "ExecuteTime": {
     "end_time": "2020-07-05T08:46:18.721797Z",
     "start_time": "2020-07-05T08:46:18.453323Z"
    }
   },
   "outputs": [],
   "source": [
    "import rasterio\n",
    "import requests\n",
    "import numpy as np\n",
    "from pathlib import Path\n",
    "import matplotlib.pyplot as pyplt"
   ]
  },
  {
   "cell_type": "markdown",
   "metadata": {},
   "source": [
    "### utilities"
   ]
  },
  {
   "cell_type": "code",
   "execution_count": null,
   "metadata": {
    "ExecuteTime": {
     "end_time": "2020-07-05T08:46:18.729737Z",
     "start_time": "2020-07-05T08:46:18.722909Z"
    }
   },
   "outputs": [],
   "source": [
    "def download_file_from_google_drive(id: str, destination: Path) -> None:\n",
    "    URL = \"https://docs.google.com/uc?export=download\"\n",
    "\n",
    "    session = requests.Session()\n",
    "\n",
    "    response = session.get(URL, params = { 'id' : id }, stream = True)\n",
    "    token = get_confirm_token(response)\n",
    "\n",
    "    if token:\n",
    "        params = { 'id' : id, 'confirm' : token }\n",
    "        response = session.get(URL, params = params, stream = True)\n",
    "\n",
    "    save_response_content(response, destination)    \n",
    "\n",
    "def get_confirm_token(response: requests.Response) -> None:\n",
    "    for key, value in response.cookies.items():\n",
    "        if key.startswith('download_warning'):\n",
    "            return value\n",
    "\n",
    "    return None\n",
    "\n",
    "def save_response_content(response: requests.Response, destination: Path) -> None:\n",
    "    CHUNK_SIZE = 32768\n",
    "\n",
    "    with open(destination, \"wb\") as f:\n",
    "        for chunk in response.iter_content(CHUNK_SIZE):\n",
    "            if chunk: # filter out keep-alive new chunks\n",
    "                f.write(chunk)\n",
    "                \n",
    "def write_image(input: Path, output:Path, band: int) -> None:\n",
    "    with rasterio.open(input) as src_dataset:\n",
    "        with rasterio.open(input, driver='JP2OpenJPEG') as dataset:\n",
    "            array = dataset.read(band)\n",
    "        # Get a copy of the source dataset's profile. Thus our\n",
    "        # destination dataset will have the same dimensions,\n",
    "        # number of bands, data type, and georeferencing as the\n",
    "        # source dataset.\n",
    "        kwds = src_dataset.profile\n",
    "\n",
    "        # Change the format driver for the destination dataset to\n",
    "        # 'GTiff', short for GeoTIFF.\n",
    "        kwds['driver'] = 'GTiff'\n",
    "\n",
    "        # Add GeoTIFF-specific keyword arguments.\n",
    "        kwds['tiled'] = True\n",
    "        kwds['blockxsize'] = 256\n",
    "        kwds['blockysize'] = 256\n",
    "        kwds['photometric'] = 'YCbCr'\n",
    "        kwds['compress'] = 'JPEG'\n",
    "\n",
    "        with rasterio.open(output, 'w', **kwds) as dst_dataset:\n",
    "            # Write data to the destination dataset.\n",
    "            dst_dataset.write(array.astype(rasterio.uint8), 1)                "
   ]
  },
  {
   "cell_type": "markdown",
   "metadata": {},
   "source": [
    "### load lake poopo bolivia "
   ]
  },
  {
   "cell_type": "code",
   "execution_count": null,
   "metadata": {
    "ExecuteTime": {
     "end_time": "2020-07-05T08:46:43.700130Z",
     "start_time": "2020-07-05T08:46:18.731072Z"
    }
   },
   "outputs": [],
   "source": [
    "file_id = '1o76QoBtn6ExxO8KgcCqdOiun_KsWoMJl'\n",
    "file_path = Path('lake_poopo_bolivia.jp2')\n",
    "download_file_from_google_drive(file_id, file_path)"
   ]
  },
  {
   "cell_type": "code",
   "execution_count": null,
   "metadata": {
    "ExecuteTime": {
     "end_time": "2020-07-05T08:46:46.110876Z",
     "start_time": "2020-07-05T08:46:43.701315Z"
    }
   },
   "outputs": [],
   "source": [
    "driver = 'JP2OpenJPEG'\n",
    "with rasterio.open(file_path, driver=driver) as dataset:\n",
    "    array = dataset.read(1)\n",
    "    print(f\"array type: {type(array)}\")\n",
    "    print(f\"array shape: {array.shape}\")\n",
    "    print(dataset.profile)"
   ]
  },
  {
   "cell_type": "code",
   "execution_count": null,
   "metadata": {
    "ExecuteTime": {
     "end_time": "2020-07-05T08:47:05.945758Z",
     "start_time": "2020-07-05T08:46:46.112038Z"
    }
   },
   "outputs": [],
   "source": [
    "out_file_list = [Path('r1.tif'), Path('r2.tif'), Path('r3.tif')]\n",
    "[write_image(input=file_path, output=out_file, band=band) for out_file, band in zip(out_file_list, [1,2,3])]"
   ]
  },
  {
   "cell_type": "code",
   "execution_count": null,
   "metadata": {
    "ExecuteTime": {
     "end_time": "2020-07-05T08:47:12.373531Z",
     "start_time": "2020-07-05T08:47:05.947030Z"
    }
   },
   "outputs": [],
   "source": [
    "# Read metadata of first file\n",
    "with rasterio.open(out_file_list[0]) as src0:\n",
    "    meta = src0.meta\n",
    "\n",
    "# Update meta to reflect the number of layers\n",
    "meta.update(count = len(out_file_list))\n",
    "\n",
    "rgb_file_path = Path('rgb_lake_poopo_bolivia.tif')\n",
    "# Read each layer and write it to stack\n",
    "with rasterio.open(rgb_file_path, 'w', **meta) as dst:\n",
    "    for id, layer in enumerate(out_file_list, start=1):\n",
    "        with rasterio.open(layer) as src1:\n",
    "            dst.write_band(id, src1.read(1))"
   ]
  },
  {
   "cell_type": "code",
   "execution_count": null,
   "metadata": {
    "ExecuteTime": {
     "end_time": "2020-07-05T08:47:12.380958Z",
     "start_time": "2020-07-05T08:47:12.374543Z"
    }
   },
   "outputs": [],
   "source": [
    "# Remove intermediate images\n",
    "[filename.unlink() for filename in out_file_list]"
   ]
  },
  {
   "cell_type": "code",
   "execution_count": null,
   "metadata": {
    "ExecuteTime": {
     "end_time": "2020-07-05T08:47:12.385446Z",
     "start_time": "2020-07-05T08:47:12.383241Z"
    }
   },
   "outputs": [],
   "source": [
    "print(f\"meta data: {meta}\")"
   ]
  },
  {
   "cell_type": "code",
   "execution_count": null,
   "metadata": {
    "ExecuteTime": {
     "end_time": "2020-07-05T08:47:15.858504Z",
     "start_time": "2020-07-05T08:47:12.387219Z"
    }
   },
   "outputs": [],
   "source": [
    "from rasterio.warp import calculate_default_transform, reproject, Resampling\n",
    "\n",
    "dst_crs = 'EPSG:4326'\n",
    "\n",
    "# note there is a nested 'with statement' here\n",
    "# the first 'with' command opens the image as src\n",
    "with rasterio.open(rgb_file_path) as src:\n",
    "    transform, width, height = calculate_default_transform(\n",
    "        src.crs, dst_crs, src.width, src.height, *src.bounds)\n",
    "    kwargs = src.meta.copy()\n",
    "    kwargs.update({\n",
    "        'crs': dst_crs,\n",
    "        'transform': transform,\n",
    "        'width': width,\n",
    "        'height': height\n",
    "    })\n",
    "# the second 'with' statement opens an image for writing\n",
    "    with rasterio.open(f'reprojected_{rgb_file_path}', 'w', **kwargs) as dst:\n",
    "        for i in range(1, src.count + 1):\n",
    "            reproject(\n",
    "                source=rasterio.band(src, i),\n",
    "                destination=rasterio.band(dst, i),\n",
    "                src_transform=src.transform,\n",
    "                src_crs=src.crs,\n",
    "                dst_transform=transform,\n",
    "                dst_crs=dst_crs,\n",
    "                resampling=Resampling.nearest)"
   ]
  },
  {
   "cell_type": "markdown",
   "metadata": {
    "ExecuteTime": {
     "end_time": "2020-07-05T08:32:10.206651Z",
     "start_time": "2020-07-05T08:32:10.204760Z"
    }
   },
   "source": [
    "### convert image to tensorflow's tensor"
   ]
  },
  {
   "cell_type": "code",
   "execution_count": null,
   "metadata": {
    "ExecuteTime": {
     "end_time": "2020-07-05T08:47:17.610958Z",
     "start_time": "2020-07-05T08:47:15.859555Z"
    }
   },
   "outputs": [],
   "source": [
    "from tensorflow.keras import backend as K\n",
    "from tensorflow import convert_to_tensor, transpose\n",
    "\n",
    "with rasterio.open(f'reprojected_{rgb_file_path}') as src:\n",
    "    data = src.read()\n",
    "    print(f\"{src.meta}\")\n",
    "    print(f\"data min: {np.min(data)}\")\n",
    "    print(f\"data max: {np.max(data)}\")\n",
    "    print(f\"data type: {type(data)}\")\n",
    "    print(f\"data shape: {data.shape}\")\n",
    "\n",
    "K.set_image_data_format('channels_last')\n",
    "\n",
    "tf_image = convert_to_tensor(data)\n",
    "tf_image = transpose(tf_image, [1, 2, 0])\n",
    "print(f\"tf_image type: {type(tf_image)}\")\n",
    "print(f\"tf_image shape: {tf_image.shape}\")\n"
   ]
  },
  {
   "cell_type": "markdown",
   "metadata": {
    "ExecuteTime": {
     "end_time": "2020-07-05T08:32:13.565744Z",
     "start_time": "2020-07-05T08:32:13.563594Z"
    }
   },
   "source": [
    "### resize image"
   ]
  },
  {
   "cell_type": "code",
   "execution_count": null,
   "metadata": {
    "ExecuteTime": {
     "end_time": "2020-07-05T08:47:17.806103Z",
     "start_time": "2020-07-05T08:47:17.612050Z"
    }
   },
   "outputs": [],
   "source": [
    "from tensorflow.image import resize\n",
    "\n",
    "tf_image_resized = resize(tf_image, [256,256])\n",
    "np_image_resized = tf_image_resized.numpy().astype(np.uint8)\n",
    "\n",
    "pyplt.axis(\"off\")\n",
    "pyplt.imshow(np_image_resized)\n",
    "pyplt.show()"
   ]
  },
  {
   "cell_type": "markdown",
   "metadata": {},
   "source": [
    "### crop or pad"
   ]
  },
  {
   "cell_type": "code",
   "execution_count": null,
   "metadata": {
    "ExecuteTime": {
     "end_time": "2020-07-05T08:47:18.132015Z",
     "start_time": "2020-07-05T08:47:17.807026Z"
    }
   },
   "outputs": [],
   "source": [
    "from tensorflow.image import resize_with_crop_or_pad\n",
    "\n",
    "tf_image_cropped = resize_with_crop_or_pad(tf_image, target_height=1200, target_width=1920)\n",
    "\n",
    "np_image_cropped = tf_image_cropped.numpy().astype(np.uint8)\n",
    "pyplt.axis(\"off\")\n",
    "pyplt.imshow(np_image_cropped)\n",
    "pyplt.show()"
   ]
  },
  {
   "cell_type": "markdown",
   "metadata": {},
   "source": [
    "### central crop"
   ]
  },
  {
   "cell_type": "code",
   "execution_count": null,
   "metadata": {
    "ExecuteTime": {
     "end_time": "2020-07-05T08:47:19.432910Z",
     "start_time": "2020-07-05T08:47:18.132902Z"
    }
   },
   "outputs": [],
   "source": [
    "from tensorflow.image import central_crop\n",
    "\n",
    "tf_image_central_crop = central_crop(tf_image, central_fraction=0.5)\n",
    "np_image_central_crop = tf_image_central_crop.numpy().astype(np.uint8)\n",
    "\n",
    "pyplt.axis(\"off\")\n",
    "pyplt.imshow(np_image_central_crop,)\n",
    "pyplt.show()"
   ]
  },
  {
   "cell_type": "markdown",
   "metadata": {},
   "source": [
    "### convert to grayscale"
   ]
  },
  {
   "cell_type": "code",
   "execution_count": null,
   "metadata": {
    "ExecuteTime": {
     "end_time": "2020-07-05T08:47:20.996987Z",
     "start_time": "2020-07-05T08:47:19.433733Z"
    }
   },
   "outputs": [],
   "source": [
    "from tensorflow.image import rgb_to_grayscale\n",
    "\n",
    "tf_image_gray = rgb_to_grayscale(tf_image)\n",
    "np_image_gray = tf_image_gray.numpy().astype(np.uint8)\n",
    "\n",
    "pyplt.axis(\"off\")\n",
    "pyplt.imshow(np_image_gray[:,:,0], cmap='gray', vmin=0, vmax=255)\n",
    "pyplt.show()"
   ]
  },
  {
   "cell_type": "markdown",
   "metadata": {},
   "source": [
    "### flip left-right"
   ]
  },
  {
   "cell_type": "code",
   "execution_count": null,
   "metadata": {
    "ExecuteTime": {
     "end_time": "2020-07-05T08:47:24.975589Z",
     "start_time": "2020-07-05T08:47:20.997969Z"
    }
   },
   "outputs": [],
   "source": [
    "from tensorflow.image import flip_left_right\n",
    "\n",
    "tf_image_flip_left_right = flip_left_right(tf_image)\n",
    "np_image_flip_left_right = tf_image_flip_left_right.numpy().astype(np.uint8)\n",
    "\n",
    "pyplt.axis(\"off\")\n",
    "pyplt.imshow(np_image_flip_left_right)\n",
    "pyplt.show()\n"
   ]
  },
  {
   "cell_type": "markdown",
   "metadata": {},
   "source": [
    "### image gradients"
   ]
  },
  {
   "cell_type": "code",
   "execution_count": null,
   "metadata": {
    "ExecuteTime": {
     "end_time": "2020-07-05T08:47:33.110883Z",
     "start_time": "2020-07-05T08:47:24.976507Z"
    }
   },
   "outputs": [],
   "source": [
    "from tensorflow import expand_dims\n",
    "from tensorflow.image import image_gradients\n",
    "\n",
    "tf_image_batch = expand_dims(tf_image, axis=0)\n",
    "tf_dx, tf_dy = image_gradients(tf_image_batch)\n",
    "np_dx = tf_dx.numpy().astype(np.uint8)\n",
    "np_dy = tf_dy.numpy().astype(np.uint8)\n",
    "\n",
    "fig, (ax1, ax2) = pyplt.subplots(1, 2)\n",
    "ax1.axis(\"off\")\n",
    "ax1.imshow(np_dx[0,:,:,:])\n",
    "ax2.axis(\"off\")\n",
    "ax2.imshow(np_dy[0,:,:,:])\n"
   ]
  }
 ],
 "metadata": {
  "kernelspec": {
   "display_name": "Python 3",
   "language": "python",
   "name": "python3"
  },
  "language_info": {
   "codemirror_mode": {
    "name": "ipython",
    "version": 3
   },
   "file_extension": ".py",
   "mimetype": "text/x-python",
   "name": "python",
   "nbconvert_exporter": "python",
   "pygments_lexer": "ipython3",
   "version": "3.8.1"
  },
  "varInspector": {
   "cols": {
    "lenName": 16,
    "lenType": 16,
    "lenVar": 40
   },
   "kernels_config": {
    "python": {
     "delete_cmd_postfix": "",
     "delete_cmd_prefix": "del ",
     "library": "var_list.py",
     "varRefreshCmd": "print(var_dic_list())"
    },
    "r": {
     "delete_cmd_postfix": ") ",
     "delete_cmd_prefix": "rm(",
     "library": "var_list.r",
     "varRefreshCmd": "cat(var_dic_list()) "
    }
   },
   "types_to_exclude": [
    "module",
    "function",
    "builtin_function_or_method",
    "instance",
    "_Feature"
   ],
   "window_display": false
  }
 },
 "nbformat": 4,
 "nbformat_minor": 4
}
